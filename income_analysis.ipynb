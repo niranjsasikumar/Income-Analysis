{
 "cells": [
  {
   "cell_type": "markdown",
   "id": "81fe77d6",
   "metadata": {},
   "source": [
    "# Income Analysis\n",
    "\n",
    "This project aims to use a dataset of incomes of adults from the 1994 Census to create models that can be used to predict whether an individual makes an annual income of greater than 50,000 or not based on characteristics about the individual. Various supervised learning models will be explored to determine how these models perform on this classification task.\n",
    "\n",
    "The goal of the project is to determine which sociodemographic characteristics about an individual have an influence on their annual income and by how much these characteristics influence the annual income. Doing so could provide insights into social inequalities regarding an individual's income."
   ]
  },
  {
   "cell_type": "markdown",
   "id": "c9001249",
   "metadata": {},
   "source": [
    "## Dataset\n",
    "\n",
    "The dataset used for this project is titled \"Adult\" and is from the University of California Irvine's Machine Learning Repository.\n",
    "\n",
    "Becker, B., & Kohavi, R. (1996). Adult. UCI Machine Learning Repository. https://doi.org/10.24432/C5XW20"
   ]
  },
  {
   "cell_type": "code",
   "execution_count": 1,
   "id": "4ff5656f",
   "metadata": {},
   "outputs": [
    {
     "name": "stdout",
     "output_type": "stream",
     "text": [
      "(48842, 15)\n"
     ]
    }
   ],
   "source": [
    "import pandas as pd\n",
    "\n",
    "data = pd.read_csv('./data/raw_data.csv')\n",
    "print(data.shape)"
   ]
  },
  {
   "cell_type": "markdown",
   "id": "4ac14353",
   "metadata": {},
   "source": [
    "The dataset contains information on adults from the 1994 Census. The dataset includes information on 48,842 individuals with 15 columns.\n",
    "\n",
    "#### Target Variable\n",
    "\n",
    "The target variable in this analysis is the \"income\" variable. This categorical variable indicates whether an individual's income is greater than 50,000 or not.\n",
    "\n",
    "#### Feature Variables\n",
    "\n",
    "age (numerical) - Age\n",
    "\n",
    "workclass (categorical) - Type of work\n",
    "\n",
    "fnlwgt (numerical) - Final weight of observation\n",
    "\n",
    "education (categorical) - Highest level of education\n",
    "\n",
    "education-num (numerical) - Number assigned based on \"education\" feature\n",
    "\n",
    "marital-status (categorical) - Marital status\n",
    "\n",
    "occupation (categorical) - Industry/role\n",
    "\n",
    "relationship (categorical) - Relationship relative to marital status\n",
    "\n",
    "race (categorical) - Race\n",
    "\n",
    "sex (categorical) - Sex\n",
    "\n",
    "capital-gain (numerical) - Capital gain\n",
    "\n",
    "capital-loss (numerical) - Capital loss\n",
    "\n",
    "hours-per-week (numerical) - Average number of hours worked per week\n",
    "\n",
    "native-country (categorical) - Country of birth"
   ]
  },
  {
   "cell_type": "markdown",
   "id": "2dde4d3c",
   "metadata": {},
   "source": [
    "## Data Cleaning\n",
    "\n",
    "The UCI Machine Learning Repository website's page for this dataset mentions that there are missing values in the columns \"workclass\", \"occupation\", and \"native-country\"."
   ]
  },
  {
   "cell_type": "code",
   "execution_count": 2,
   "id": "7ca22bc0",
   "metadata": {},
   "outputs": [
    {
     "name": "stdout",
     "output_type": "stream",
     "text": [
      "workclass has missing values: True\n",
      "occupation has missing values: True\n",
      "native-country has missing values: True\n"
     ]
    }
   ],
   "source": [
    "missing_values_columns = ['workclass', 'occupation', 'native-country']\n",
    "for column in missing_values_columns:\n",
    "    print(f'{column} has missing values: {data[column].isnull().any()}')"
   ]
  },
  {
   "cell_type": "markdown",
   "id": "d5bfd6bb",
   "metadata": {},
   "source": [
    "These columns do indeed have missing values. For this project, it is best to drop any rows that contain missing values in any of the columns."
   ]
  },
  {
   "cell_type": "code",
   "execution_count": 3,
   "id": "fbceffbc",
   "metadata": {},
   "outputs": [
    {
     "name": "stdout",
     "output_type": "stream",
     "text": [
      "(48842, 15)\n",
      "(47621, 15)\n"
     ]
    }
   ],
   "source": [
    "print(data.shape)\n",
    "data = data.dropna()\n",
    "print(data.shape)"
   ]
  },
  {
   "cell_type": "markdown",
   "id": "141bc932",
   "metadata": {},
   "source": [
    "1,221 rows were dropped since they had missing values."
   ]
  },
  {
   "cell_type": "code",
   "execution_count": 4,
   "id": "c304e00d",
   "metadata": {},
   "outputs": [
    {
     "name": "stdout",
     "output_type": "stream",
     "text": [
      "workclass: ['State-gov' 'Self-emp-not-inc' 'Private' 'Federal-gov' 'Local-gov' '?'\n",
      " 'Self-emp-inc' 'Without-pay' 'Never-worked']\n",
      "education: ['Bachelors' 'HS-grad' '11th' 'Masters' '9th' 'Some-college' 'Assoc-acdm'\n",
      " 'Assoc-voc' '7th-8th' 'Doctorate' 'Prof-school' '5th-6th' '10th'\n",
      " '1st-4th' 'Preschool' '12th']\n",
      "marital-status: ['Never-married' 'Married-civ-spouse' 'Divorced' 'Married-spouse-absent'\n",
      " 'Separated' 'Married-AF-spouse' 'Widowed']\n",
      "occupation: ['Adm-clerical' 'Exec-managerial' 'Handlers-cleaners' 'Prof-specialty'\n",
      " 'Other-service' 'Sales' 'Craft-repair' 'Transport-moving'\n",
      " 'Farming-fishing' 'Machine-op-inspct' 'Tech-support' '?'\n",
      " 'Protective-serv' 'Armed-Forces' 'Priv-house-serv']\n",
      "relationship: ['Not-in-family' 'Husband' 'Wife' 'Own-child' 'Unmarried' 'Other-relative']\n",
      "race: ['White' 'Black' 'Asian-Pac-Islander' 'Amer-Indian-Eskimo' 'Other']\n",
      "sex: ['Male' 'Female']\n",
      "native-country: ['United-States' 'Cuba' 'Jamaica' 'India' '?' 'Mexico' 'South'\n",
      " 'Puerto-Rico' 'Honduras' 'England' 'Canada' 'Germany' 'Iran'\n",
      " 'Philippines' 'Italy' 'Poland' 'Columbia' 'Cambodia' 'Thailand' 'Ecuador'\n",
      " 'Laos' 'Taiwan' 'Haiti' 'Portugal' 'Dominican-Republic' 'El-Salvador'\n",
      " 'France' 'Guatemala' 'China' 'Japan' 'Yugoslavia' 'Peru'\n",
      " 'Outlying-US(Guam-USVI-etc)' 'Scotland' 'Trinadad&Tobago' 'Greece'\n",
      " 'Nicaragua' 'Vietnam' 'Hong' 'Ireland' 'Hungary' 'Holand-Netherlands']\n",
      "income: ['<=50K' '>50K' '<=50K.' '>50K.']\n"
     ]
    }
   ],
   "source": [
    "categorical_vars = data.select_dtypes(exclude='number').columns\n",
    "for var in categorical_vars:\n",
    "    print(f'{var}:', data[var].unique())"
   ]
  },
  {
   "cell_type": "markdown",
   "id": "1b23dcd2",
   "metadata": {},
   "source": [
    "The \"workclass\", \"occupation\", and \"native-country\" columns still contain values that are the string \"?\". Rows containing this value in these columns should also be dropped."
   ]
  },
  {
   "cell_type": "code",
   "execution_count": 5,
   "id": "018953ca",
   "metadata": {},
   "outputs": [
    {
     "name": "stdout",
     "output_type": "stream",
     "text": [
      "(45222, 15)\n"
     ]
    }
   ],
   "source": [
    "data = data[~(data == '?').any(axis=1)]\n",
    "print(data.shape)"
   ]
  },
  {
   "cell_type": "markdown",
   "id": "292b6e94",
   "metadata": {},
   "source": [
    "An additional 2,399 rows were dropped.\n",
    "\n",
    "The \"education\" categorical variable may be redundant because of the \"education-num\" numerical variable."
   ]
  },
  {
   "cell_type": "code",
   "execution_count": 6,
   "id": "de1790d3",
   "metadata": {},
   "outputs": [
    {
     "name": "stdout",
     "output_type": "stream",
     "text": [
      "16\n",
      "1 16\n"
     ]
    }
   ],
   "source": [
    "print(len(data['education'].unique()))\n",
    "print(data['education-num'].min(), data['education-num'].max())"
   ]
  },
  {
   "cell_type": "markdown",
   "id": "7301cfaf",
   "metadata": {},
   "source": [
    "There are 16 unique values in the \"education\" column and the \"education-num\" column contains integers from 1 to 16. This suggests that the \"education\" variable can be dropped since it is an ordinal variable and its information is already captured as integers in \"education-num\"."
   ]
  },
  {
   "cell_type": "code",
   "execution_count": 7,
   "id": "50fd6d8a",
   "metadata": {},
   "outputs": [],
   "source": [
    "data = data.drop(columns='education')"
   ]
  },
  {
   "cell_type": "markdown",
   "id": "f7f41bff",
   "metadata": {},
   "source": [
    "The \"fnlwgt\" column can also be dropped since it is not helpful when building models in this project."
   ]
  },
  {
   "cell_type": "code",
   "execution_count": 8,
   "id": "ce635edf",
   "metadata": {},
   "outputs": [],
   "source": [
    "data = data.drop(columns='fnlwgt')"
   ]
  },
  {
   "cell_type": "markdown",
   "id": "8fc9e5a3",
   "metadata": {},
   "source": [
    "Data munging may also be necessary for some of the categorical variables.\n",
    "\n",
    "The \"income\" target variable should be fixed and converted into a binary variable."
   ]
  },
  {
   "cell_type": "code",
   "execution_count": 9,
   "id": "d0a1551f",
   "metadata": {},
   "outputs": [
    {
     "name": "stdout",
     "output_type": "stream",
     "text": [
      "[0 1]\n"
     ]
    }
   ],
   "source": [
    "income_mapping = { '>50K': 1, '>50K.': 1, '<=50K': 0, '<=50K.': 0 }\n",
    "data['income'] = data['income'].map(income_mapping)\n",
    "print(data['income'].unique())"
   ]
  },
  {
   "cell_type": "markdown",
   "id": "8a4e222d",
   "metadata": {},
   "source": [
    "There are a lot of different possible values for the \"native-country\" variable. It may be more useful to consider whether someone's native country is the United States or not since the census was conducted in the US. Due to these reasons, it is reasonable to transform the \"native-country\" variable to a binary variable called \"us-native\" that indicates whether an individual's native country is the US."
   ]
  },
  {
   "cell_type": "code",
   "execution_count": 10,
   "id": "327f2c61",
   "metadata": {},
   "outputs": [
    {
     "name": "stdout",
     "output_type": "stream",
     "text": [
      "[1 0]\n"
     ]
    }
   ],
   "source": [
    "data['native-country'] = data['native-country'].apply(lambda x: 1 if x == 'United-States' else 0)\n",
    "data = data.rename(columns={'native-country': 'us-native'})\n",
    "print(data['us-native'].unique())"
   ]
  },
  {
   "cell_type": "code",
   "execution_count": 11,
   "id": "1e1ce9ee",
   "metadata": {},
   "outputs": [
    {
     "name": "stdout",
     "output_type": "stream",
     "text": [
      "(45222, 13)\n"
     ]
    }
   ],
   "source": [
    "print(data.shape)"
   ]
  },
  {
   "cell_type": "markdown",
   "id": "20d2051b",
   "metadata": {},
   "source": [
    "In summary, as a result of the data cleaning, 3,620 rows and 2 columns were dropped. There is still additional data munging to be done to some of the remaining categorical variables. However, this will be done after the exploratory data analysis in order to make the EDA easier."
   ]
  }
 ],
 "metadata": {
  "kernelspec": {
   "display_name": "Python 3 (ipykernel)",
   "language": "python",
   "name": "python3"
  },
  "language_info": {
   "codemirror_mode": {
    "name": "ipython",
    "version": 3
   },
   "file_extension": ".py",
   "mimetype": "text/x-python",
   "name": "python",
   "nbconvert_exporter": "python",
   "pygments_lexer": "ipython3",
   "version": "3.11.0"
  }
 },
 "nbformat": 4,
 "nbformat_minor": 5
}
