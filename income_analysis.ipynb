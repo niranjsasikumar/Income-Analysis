{
 "cells": [
  {
   "cell_type": "markdown",
   "id": "2428a13e",
   "metadata": {},
   "source": [
    "# Income Analysis\n",
    "\n",
    "This project aims to use a dataset of incomes of adults from the 1994 Census to create models that can be used to predict whether an individual makes an annual income of greater than $50,000 or not based on characteristics about the individual. Various supervised learning models will be explored to determine how these models perform on this classification task.\n",
    "\n",
    "The goal of the project is to determine which sociodemographic characteristics about an individual have an influence on their annual income and by how much these characteristics influence the annual income. Doing so could provide insights into social inequalities regarding an individual's income.\n",
    "\n",
    "## Dataset\n",
    "\n",
    "The dataset used for this project is titled \"Adult\" and is from the University of California Irvine's Machine Learning Repository.\n",
    "\n",
    "Becker, B., & Kohavi, R. (1996). Adult. UCI Machine Learning Repository. https://doi.org/10.24432/C5XW20"
   ]
  },
  {
   "cell_type": "code",
   "execution_count": null,
   "id": "be544165",
   "metadata": {},
   "outputs": [],
   "source": []
  }
 ],
 "metadata": {
  "kernelspec": {
   "display_name": "Python 3 (ipykernel)",
   "language": "python",
   "name": "python3"
  },
  "language_info": {
   "codemirror_mode": {
    "name": "ipython",
    "version": 3
   },
   "file_extension": ".py",
   "mimetype": "text/x-python",
   "name": "python",
   "nbconvert_exporter": "python",
   "pygments_lexer": "ipython3",
   "version": "3.11.0"
  }
 },
 "nbformat": 4,
 "nbformat_minor": 5
}
